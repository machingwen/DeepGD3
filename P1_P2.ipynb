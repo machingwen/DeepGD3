{
 "cells": [
  {
   "cell_type": "code",
   "execution_count": 128,
   "id": "14c96a34",
   "metadata": {},
   "outputs": [],
   "source": [
    "import pandas as pd\n",
    "import numpy as np\n",
    "from statistics import mean\n",
    "pd.set_option('display.float_format', '{:.5f}'.format)\n",
    "\n",
    "P1=[]\n",
    "P2=[]\n",
    "\n",
    "for i in range(0, 23):\n",
    "    temp_df = pd.read_csv(f\"./output/1/{i}_P1_P2.csv\")\n",
    "    p1 = [i for i in temp_df['P1'].tolist()]\n",
    "    p2 = [i for i in temp_df['P2'].tolist()]\n",
    "    P1.append(mean(p1))\n",
    "    P2.append(mean(p2))\n",
    "df = pd.DataFrame(list(zip(P1, P2)), columns=['P1','P2'])\n",
    "# df.to_csv('./P1_P2.csv')"
   ]
  }
 ],
 "metadata": {
  "kernelspec": {
   "display_name": "Python 3 (ipykernel)",
   "language": "python",
   "name": "python3"
  },
  "language_info": {
   "codemirror_mode": {
    "name": "ipython",
    "version": 3
   },
   "file_extension": ".py",
   "mimetype": "text/x-python",
   "name": "python",
   "nbconvert_exporter": "python",
   "pygments_lexer": "ipython3",
   "version": "3.8.10"
  }
 },
 "nbformat": 4,
 "nbformat_minor": 5
}
